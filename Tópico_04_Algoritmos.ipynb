{
  "nbformat": 4,
  "nbformat_minor": 0,
  "metadata": {
    "colab": {
      "provenance": []
    },
    "kernelspec": {
      "name": "python3",
      "display_name": "Python 3"
    },
    "language_info": {
      "name": "python"
    }
  },
  "cells": [
    {
      "cell_type": "markdown",
      "source": [
        "**LOOP**"
      ],
      "metadata": {
        "id": "ut-yblVKn_jE"
      }
    },
    {
      "cell_type": "markdown",
      "source": [
        "1. Modifique o código abaixo para imprimir números de 0 a 9"
      ],
      "metadata": {
        "id": "y36EFe2Zng-h"
      }
    },
    {
      "cell_type": "code",
      "execution_count": null,
      "metadata": {
        "colab": {
          "base_uri": "https://localhost:8080/"
        },
        "id": "cEVfUHSvnVB_",
        "outputId": "0f2cd09b-76d2-4593-eb9a-b49b37d8530c"
      },
      "outputs": [
        {
          "output_type": "stream",
          "name": "stdout",
          "text": [
            "0\n",
            "1\n",
            "2\n",
            "3\n",
            "4\n",
            "5\n",
            "6\n",
            "7\n",
            "8\n",
            "9\n"
          ]
        }
      ],
      "source": [
        "x=0\n",
        "while x<10:\n",
        "  print(x)\n",
        "  x += 1"
      ]
    },
    {
      "cell_type": "markdown",
      "source": [
        "2. Modifique o programa do exercício 1 para exibir os números de 50 a 100."
      ],
      "metadata": {
        "id": "t7nhPQfJo5n0"
      }
    },
    {
      "cell_type": "code",
      "source": [
        "x = 50\n",
        "while x < 101:\n",
        "  print(x)\n",
        "  x += 1"
      ],
      "metadata": {
        "id": "9SlyIIfGpP0v",
        "colab": {
          "base_uri": "https://localhost:8080/"
        },
        "outputId": "4bed8daa-34cc-4750-d323-95f93e8d00a8"
      },
      "execution_count": null,
      "outputs": [
        {
          "output_type": "stream",
          "name": "stdout",
          "text": [
            "50\n",
            "51\n",
            "52\n",
            "53\n",
            "54\n",
            "55\n",
            "56\n",
            "57\n",
            "58\n",
            "59\n",
            "60\n",
            "61\n",
            "62\n",
            "63\n",
            "64\n",
            "65\n",
            "66\n",
            "67\n",
            "68\n",
            "69\n",
            "70\n",
            "71\n",
            "72\n",
            "73\n",
            "74\n",
            "75\n",
            "76\n",
            "77\n",
            "78\n",
            "79\n",
            "80\n",
            "81\n",
            "82\n",
            "83\n",
            "84\n",
            "85\n",
            "86\n",
            "87\n",
            "88\n",
            "89\n",
            "90\n",
            "91\n",
            "92\n",
            "93\n",
            "94\n",
            "95\n",
            "96\n",
            "97\n",
            "98\n",
            "99\n",
            "100\n"
          ]
        }
      ]
    },
    {
      "cell_type": "markdown",
      "source": [
        "3. Faça um programa para escrever a contagem regressiva do lançamento\n",
        "de um foguete. O programa deve imprimir 10, 9, 8, ..., 1, 0 e Fogo! na tela.\n"
      ],
      "metadata": {
        "id": "pKa5K2hvpYqH"
      }
    },
    {
      "cell_type": "code",
      "source": [
        "import time\n",
        "print('Lançamento do foquete em:')\n",
        "x = 10\n",
        "while x >= 0:\n",
        "  print(x)\n",
        "  time.sleep(1)\n",
        "  x-= 1\n",
        "print('Fogo!')"
      ],
      "metadata": {
        "id": "KtKxuo2uplsJ",
        "colab": {
          "base_uri": "https://localhost:8080/"
        },
        "outputId": "0586fe4f-a76d-4a32-e8a8-41d33ff0baf1"
      },
      "execution_count": null,
      "outputs": [
        {
          "output_type": "stream",
          "name": "stdout",
          "text": [
            "Lançamento do foquete em:\n",
            "10\n",
            "9\n",
            "8\n",
            "7\n",
            "6\n",
            "5\n",
            "4\n",
            "3\n",
            "2\n",
            "1\n",
            "0\n",
            "Fogo!\n"
          ]
        }
      ]
    },
    {
      "cell_type": "markdown",
      "source": [
        "# **Contadores**"
      ],
      "metadata": {
        "id": "aBjIEJpzsRea"
      }
    },
    {
      "cell_type": "markdown",
      "source": [
        "1. Imprimir os números pares de 0 até um valor informado pelo usuário."
      ],
      "metadata": {
        "id": "Lz0vDM0Zr6di"
      }
    },
    {
      "cell_type": "code",
      "source": [
        "usuario = int(input('Digite um número: '))\n",
        "x = 0\n",
        "while x <= usuario:\n",
        "  if x % 2 == 0:\n",
        "    print(x)\n",
        "  x += 1"
      ],
      "metadata": {
        "id": "ONZApWxDslGw",
        "colab": {
          "base_uri": "https://localhost:8080/"
        },
        "outputId": "cecc7b2c-75be-4d65-953c-f15a8565b83e"
      },
      "execution_count": null,
      "outputs": [
        {
          "output_type": "stream",
          "name": "stdout",
          "text": [
            "Digite um número: 10\n",
            "0\n",
            "2\n",
            "4\n",
            "6\n",
            "8\n",
            "10\n"
          ]
        }
      ]
    },
    {
      "cell_type": "markdown",
      "source": [
        "2. Modifique o programa anterior para imprimir de 1 até o número\n",
        "digitado pelo usuário, mas, dessa vez, apenas os números ímpares."
      ],
      "metadata": {
        "id": "Z_1QABpTs3ah"
      }
    },
    {
      "cell_type": "code",
      "source": [
        "usuario = int(input('Digite um numero: '))\n",
        "x = 1\n",
        "while x <= usuario:\n",
        "  if x % 2 != 0:\n",
        "    print(x)\n",
        "  x += 1"
      ],
      "metadata": {
        "id": "y4ZCmsgitllv",
        "colab": {
          "base_uri": "https://localhost:8080/"
        },
        "outputId": "73a07dfb-d0f2-4286-c1c7-480bd2432e39"
      },
      "execution_count": null,
      "outputs": [
        {
          "output_type": "stream",
          "name": "stdout",
          "text": [
            "Digite um numero: 11\n",
            "1\n",
            "3\n",
            "5\n",
            "7\n",
            "9\n",
            "11\n"
          ]
        }
      ]
    },
    {
      "cell_type": "markdown",
      "source": [
        "3. Escreva um programa para imprimir os 10 primeiros múltiplos de 3."
      ],
      "metadata": {
        "id": "OMC--iHQt8xI"
      }
    },
    {
      "cell_type": "code",
      "source": [
        "x = 1\n",
        "while x <= 10:\n",
        "    print(x * 3)\n",
        "    x += 1"
      ],
      "metadata": {
        "colab": {
          "base_uri": "https://localhost:8080/"
        },
        "id": "50tAzGsYHwv-",
        "outputId": "f62555db-45ec-46f1-a37f-ccd6e11ccc1b"
      },
      "execution_count": null,
      "outputs": [
        {
          "output_type": "stream",
          "name": "stdout",
          "text": [
            "3\n",
            "6\n",
            "9\n",
            "12\n",
            "15\n",
            "18\n",
            "21\n",
            "24\n",
            "27\n",
            "30\n"
          ]
        }
      ]
    },
    {
      "cell_type": "markdown",
      "source": [
        "4. Escreva um programa para calcular a tabuada de um número fornecido pelo usuário"
      ],
      "metadata": {
        "id": "mgQK7hrRvfSp"
      }
    },
    {
      "cell_type": "code",
      "source": [
        "numero = int(input('Digite um numero: '))\n",
        "x = 1\n",
        "while x <= 10:\n",
        "    print(x * numero)\n",
        "    x += 1"
      ],
      "metadata": {
        "id": "g29fOueg1U1s",
        "colab": {
          "base_uri": "https://localhost:8080/"
        },
        "outputId": "51b47878-dc5f-4695-ee43-f088da089c5c"
      },
      "execution_count": null,
      "outputs": [
        {
          "output_type": "stream",
          "name": "stdout",
          "text": [
            "Digite um numero: 10\n",
            "10\n",
            "20\n",
            "30\n",
            "40\n",
            "50\n",
            "60\n",
            "70\n",
            "80\n",
            "90\n",
            "100\n"
          ]
        }
      ]
    },
    {
      "cell_type": "markdown",
      "source": [
        "5. Altere o programa anterior para exibir os resultados no mesmo formato\n",
        "de uma tabuada: 2 x 1 = 2, 2 x 2 = 4, ..."
      ],
      "metadata": {
        "id": "6DLuVMZQ1fvR"
      }
    },
    {
      "cell_type": "code",
      "source": [
        "numero = int(input('Digite um numero: '))\n",
        "x = 1\n",
        "while x <= 10:\n",
        "    print(numero, 'x', x, '=', numero * x)\n",
        "    x += 1\n",
        "\n"
      ],
      "metadata": {
        "id": "12WXzdIBvvqM",
        "colab": {
          "base_uri": "https://localhost:8080/"
        },
        "outputId": "0484271c-fac2-43d9-9d9a-68b2b62998e2"
      },
      "execution_count": null,
      "outputs": [
        {
          "output_type": "stream",
          "name": "stdout",
          "text": [
            "Digite um numero: 2\n",
            "2 x 1 = 2\n",
            "2 x 2 = 4\n",
            "2 x 3 = 6\n",
            "2 x 4 = 8\n",
            "2 x 5 = 10\n",
            "2 x 6 = 12\n",
            "2 x 7 = 14\n",
            "2 x 8 = 16\n",
            "2 x 9 = 18\n",
            "2 x 10 = 20\n"
          ]
        }
      ]
    },
    {
      "cell_type": "markdown",
      "source": [
        "6. Modifique o programa anterior de forma que o usuário também digite o início e o fim da tabuada, em vez de começar com 1 e 10."
      ],
      "metadata": {
        "id": "xKWIOBZX2CFc"
      }
    },
    {
      "cell_type": "code",
      "source": [
        "tabuada = int(input('Digite o numero da tabuada a ser calculada: '))\n",
        "inicio = int(input('Digite o inicio da tabuada: '))\n",
        "fim = int(input('Digite o fim da tabuada: '))\n",
        "\n",
        "x = inicio\n",
        "while x <= fim:\n",
        "  print('%d x %d = %d' % (x, tabuada, x * tabuada))\n",
        "  x += 1\n"
      ],
      "metadata": {
        "id": "3qamEmLV5YGO",
        "colab": {
          "base_uri": "https://localhost:8080/"
        },
        "outputId": "da8dd8b1-278e-4e7f-d20e-64c356538458"
      },
      "execution_count": null,
      "outputs": [
        {
          "output_type": "stream",
          "name": "stdout",
          "text": [
            "Digite o numero da tabuada a ser calculada: 5\n",
            "Digite o inicio da tabuada: 3\n",
            "Digite o fim da tabuada: 7\n",
            "3 x 5 = 15\n",
            "4 x 5 = 20\n",
            "5 x 5 = 25\n",
            "6 x 5 = 30\n",
            "7 x 5 = 35\n"
          ]
        }
      ]
    },
    {
      "cell_type": "markdown",
      "source": [
        "7. Escreva um programa que leia dois números. Imprima o resultado da multiplicação do primeiro pelo segundo. Utilize apenas os operadores de soma e subtração para calcular o resultado. Lembre-se de que podemos entender a multiplicação de dois números como somas sucessivas de um deles. Assim, 4 × 5 = 5 + 5 + 5 + 5 = 4 + 4 + 4 + 4 + 4."
      ],
      "metadata": {
        "id": "jM0HH7d86N_r"
      }
    },
    {
      "cell_type": "code",
      "source": [
        "# loop para multiplicacao\n",
        "a = 5\n",
        "b = 10\n",
        "resultado = 0\n",
        "x = 0\n",
        "while x < b:\n",
        "  x += 1\n",
        "  resultado += a\n",
        "print(resultado)"
      ],
      "metadata": {
        "id": "hLMSF_4_6Qm3",
        "colab": {
          "base_uri": "https://localhost:8080/"
        },
        "outputId": "b9e6bf4b-4297-4965-d234-0d3b86a6b073"
      },
      "execution_count": null,
      "outputs": [
        {
          "output_type": "stream",
          "name": "stdout",
          "text": [
            "50\n"
          ]
        }
      ]
    },
    {
      "cell_type": "markdown",
      "source": [
        "7. Escreva um programa que leia dois números. Imprima a divisão inteira do primeiro pelo segundo, assim como o resto da divisão. Utilize apenas\n",
        "os operadores de soma e subtração para calcular o resultado. Lembre-se de que podemos entender o quociente da divisão de dois números como a quantidade de vezes que podemos retirar o divisor do  dividendo. Logo, 20 ÷ 4 = 5, uma vez\n",
        "que podemos subtrair 4 cinco vezes de 20.\n"
      ],
      "metadata": {
        "id": "MVajlDslDt3L"
      }
    },
    {
      "cell_type": "code",
      "source": [
        "a = 20\n",
        "b = 4\n",
        "resultado = 0\n",
        "x = 0\n",
        "while resultado < a:\n",
        "  resultado += b\n",
        "  x += 1\n",
        "\n",
        "print(x)"
      ],
      "metadata": {
        "id": "4hnMv9DnD3mu",
        "colab": {
          "base_uri": "https://localhost:8080/"
        },
        "outputId": "d90191ed-2e91-4ce6-cd42-719b1c0f8a7f"
      },
      "execution_count": null,
      "outputs": [
        {
          "output_type": "stream",
          "name": "stdout",
          "text": [
            "7\n"
          ]
        }
      ]
    },
    {
      "cell_type": "markdown",
      "source": [
        "8. Faça um programa que peça uma nota, entre zero e dez. Mostre uma mensagem caso o valor seja inválido e continue pedindo até que o usuário informe um valor válido."
      ],
      "metadata": {
        "id": "b44a5ELhE6VU"
      }
    },
    {
      "cell_type": "code",
      "source": [
        "nota = int(input('Digite uma nota entre 0 e 10: '))\n",
        "while  nota < 0 or nota > 10:\n",
        "  print('Nota invalida')\n",
        "  nota = int(input('Digite uma nota entre 0 e 10: '))\n",
        "print('nota aceita')"
      ],
      "metadata": {
        "id": "C0nb2WsVFCIK",
        "colab": {
          "base_uri": "https://localhost:8080/"
        },
        "outputId": "b0f81d0e-8346-4e1f-803c-860671b76ad6"
      },
      "execution_count": null,
      "outputs": [
        {
          "output_type": "stream",
          "name": "stdout",
          "text": [
            "Digite uma nota entre 0 e 10: 0\n",
            "nota aceita\n"
          ]
        }
      ]
    },
    {
      "cell_type": "markdown",
      "source": [
        "9. Faça um programa que leia um nome de usuário e a sua senha e não aceite a senha igual ao nome do usuário, mostrando uma mensagem de erro e voltando a pedir as informações."
      ],
      "metadata": {
        "id": "BmMFSPVjFkut"
      }
    },
    {
      "cell_type": "code",
      "source": [
        "usuario = input('Digite o usuario: ')\n",
        "senha = input('Crie uma senha: ')\n",
        "while senha == usuario:\n",
        "  print('senha invalida! a senha nao pode ser igual ao usuario.')\n",
        "  senha = input('Digite uma nova senha: ')\n",
        "\n",
        "print('Cadastrado.')"
      ],
      "metadata": {
        "id": "ICv4MbXOFnek",
        "colab": {
          "base_uri": "https://localhost:8080/"
        },
        "outputId": "481a813f-fba5-4e76-bc9d-0b0e96abcf9f"
      },
      "execution_count": null,
      "outputs": [
        {
          "output_type": "stream",
          "name": "stdout",
          "text": [
            "Digite o usuario: adm123\n",
            "Crie uma senha: adm123\n",
            "senha invalida! a senha nao pode ser igual ao usuario\n",
            "Digite uma nova senha: adm\n",
            "Cadastrado.\n"
          ]
        }
      ]
    },
    {
      "cell_type": "markdown",
      "source": [
        "10. Faça um programa que leia e valide as seguintes informações:\n",
        "\n",
        "*   Nome: maior que 3 caracteres;\n",
        "*   Idade: entre 0 e 150;\n",
        "*   Salário: maior que zero;\n",
        "*   Sexo: 'f' ou 'm';\n",
        "*   Estado Civil: 's', 'c', 'v', 'd';\n",
        "\n",
        "Use a função len(string) para saber o tamanho de um texto (número de caracteres).\n",
        "\n",
        "\n",
        "\n"
      ],
      "metadata": {
        "id": "PF4yp3T3GIdg"
      }
    },
    {
      "cell_type": "code",
      "source": [
        "def valida_valida(nome):\n",
        "  while len(nome) <= 3:\n",
        "    print()\n",
        "    print('Nome invalido. Necessario mais de 3 caracteres')\n",
        "    nome = input('Digite seu nome: ')\n",
        "    print()\n",
        "\n",
        "def valida_idade(idade):\n",
        "  while idade < 0 or idade > 150:\n",
        "    print()\n",
        "    print('Idade invalida')\n",
        "    idade = int(input('Digite sua idade: '))\n",
        "    print()\n",
        "\n",
        "def valida_sexo(sexo):\n",
        "  while sexo != 'f' and sexo != 'm':\n",
        "    print()\n",
        "    print('Sexo invalido')\n",
        "    sexo = input('Digite seu sexo: ')\n",
        "    print()\n",
        "\n",
        "def valida_estado_civil(estado_civil):\n",
        "    estados_validos = ['s', 'c', 'v', 'd']\n",
        "    while estado_civil not in estados_validos:\n",
        "      print()\n",
        "      print('Estado civil invalido')\n",
        "      estado_civil = input('Digite seu estado civil: ').lower()\n",
        "      print()\n",
        "\n",
        "def valida_salario(salario):\n",
        "  while salario <= 0:\n",
        "    print()\n",
        "    print('Salario invalido')\n",
        "    salario = int(input('Digite seu salario: '))\n",
        "    print()\n",
        "\n",
        "nome = input('Nome: ')\n",
        "nome = valida_valida(nome)\n",
        "\n",
        "idade = int(input('Idade: '))\n",
        "idade = valida_idade(idade)\n",
        "\n",
        "salario = float(input('Salario: '))\n",
        "salario = valida_salario(salario)\n",
        "\n",
        "sexo = input('Sexo: ')\n",
        "sexo = valida_sexo(sexo)\n",
        "\n",
        "estado_civil = input('Estado civil: ').lower()\n",
        "estado_civil = valida_estado_civil(estado_civil)\n",
        "\n",
        "print('ok')\n",
        "\n",
        "\n",
        "\n",
        "\n"
      ],
      "metadata": {
        "id": "24NcB-seGh5G",
        "colab": {
          "base_uri": "https://localhost:8080/"
        },
        "outputId": "e29d5a24-291f-48ed-d55f-d6542b34d895"
      },
      "execution_count": null,
      "outputs": [
        {
          "output_type": "stream",
          "name": "stdout",
          "text": [
            "Nome: christian\n",
            "Idade: 23\n",
            "Salario: 5000\n",
            "Sexo: m\n",
            "Estado civil: s\n",
            "ok\n"
          ]
        }
      ]
    },
    {
      "cell_type": "markdown",
      "source": [
        "11. Crie um programa que conte a quantidade de números pares entre dois números fornecidos pelo usuário."
      ],
      "metadata": {
        "id": "FVv1XTLhHiTA"
      }
    },
    {
      "cell_type": "code",
      "source": [
        "numero_1 = int(input('Primeiro numero da sequencia:  '))\n",
        "numero_2 = int(input('Segundo numero da sequencia: '))\n",
        "x= 0\n",
        "while numero_1 <= numero_2:\n",
        "    if numero_1 % 2 == 0:\n",
        "        x += 1\n",
        "    numero_1 += 1\n",
        "print(x)\n"
      ],
      "metadata": {
        "id": "ZW0ffIVeHrcR",
        "colab": {
          "base_uri": "https://localhost:8080/"
        },
        "outputId": "d1b5c86c-fca2-4efe-9278-851df279a1db"
      },
      "execution_count": null,
      "outputs": [
        {
          "output_type": "stream",
          "name": "stdout",
          "text": [
            "Primeiro numero da sequencia:  0\n",
            "Segundo numero da sequencia: 10\n",
            "6\n"
          ]
        }
      ]
    },
    {
      "cell_type": "markdown",
      "source": [
        "12. Crie um programa que calcule o fatorial de um número fornecido pelo usuário."
      ],
      "metadata": {
        "id": "L4w6z8y0Ijtz"
      }
    },
    {
      "cell_type": "code",
      "source": [
        "numero = int(input('Digite um numero: '))\n",
        "x = 1\n",
        "resultado = 1\n",
        "while x <= numero:\n",
        "  resultado *= x\n",
        "  x += 1\n",
        "print(resultado)\n"
      ],
      "metadata": {
        "id": "rRA3Cp9dIr_4",
        "colab": {
          "base_uri": "https://localhost:8080/"
        },
        "outputId": "99fe399f-c7aa-4e18-fd15-2fdae92beca4"
      },
      "execution_count": null,
      "outputs": [
        {
          "output_type": "stream",
          "name": "stdout",
          "text": [
            "Digite um numero: 5\n",
            "120\n"
          ]
        }
      ]
    },
    {
      "cell_type": "markdown",
      "source": [
        "13. Faça um programa que gere números inteiros aleatórios entre 1 e 10 e calcule a soma desses números, até que seja gerado um número num que foi informado pelo usuário anteriormente.\n",
        "\n",
        "* Dica 1: antes de mais nada, peça para o usuário digitar um número entre 1 e 10 e guarde o valor em num.\n",
        "* Dica2: use a função randint(inicio, fim) do módulo random para gerar um número aleatório entre 1 e 10."
      ],
      "metadata": {
        "id": "CAdooDmQI8d7"
      }
    },
    {
      "cell_type": "code",
      "source": [
        "import random\n",
        "\n",
        "num = int(input('Digite um numero:  '))\n",
        "soma = 0\n",
        "\n",
        "while numero != num:\n",
        "  numero = random.randint(1,10)\n",
        "  soma += numero\n",
        "print(num, soma)\n",
        "\n"
      ],
      "metadata": {
        "id": "HFP5EbAMJc0b",
        "colab": {
          "base_uri": "https://localhost:8080/"
        },
        "outputId": "ef21b32b-adcf-498d-f1b4-b4d192761acc"
      },
      "execution_count": null,
      "outputs": [
        {
          "output_type": "stream",
          "name": "stdout",
          "text": [
            "Digite um numero:  6\n",
            "6 177\n"
          ]
        }
      ]
    },
    {
      "cell_type": "markdown",
      "source": [],
      "metadata": {
        "id": "OK8n6wEIK4et"
      }
    }
  ]
}