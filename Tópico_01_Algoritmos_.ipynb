{
  "nbformat": 4,
  "nbformat_minor": 0,
  "metadata": {
    "colab": {
      "provenance": []
    },
    "kernelspec": {
      "name": "python3",
      "display_name": "Python 3"
    },
    "language_info": {
      "name": "python"
    }
  },
  "cells": [
    {
      "cell_type": "markdown",
      "source": [
        "1. Meu primeiro programa em Python: Escreva um programa que imprima na tela o texto \"Hello world\"."
      ],
      "metadata": {
        "id": "3fjzK50OxV-H"
      }
    },
    {
      "cell_type": "code",
      "execution_count": null,
      "metadata": {
        "id": "z1M7-Flxw7GA",
        "colab": {
          "base_uri": "https://localhost:8080/"
        },
        "outputId": "99d1d615-201e-4977-c2aa-48ff09fea015"
      },
      "outputs": [
        {
          "output_type": "stream",
          "name": "stdout",
          "text": [
            "Hello world\n"
          ]
        }
      ],
      "source": [
        "print(\"Hello world\")"
      ]
    },
    {
      "cell_type": "markdown",
      "source": [
        "2. Minha primeira variável em Python. Escreva um programa que atribua o texto \"Hello world\" a uma variável e depois imprima o conteúdo desta variável."
      ],
      "metadata": {
        "id": "JIow4NdgyXRL"
      }
    },
    {
      "cell_type": "code",
      "source": [
        "texto = 'hello world'\n",
        "print(texto)"
      ],
      "metadata": {
        "id": "GQUat7eq0dSJ",
        "colab": {
          "base_uri": "https://localhost:8080/"
        },
        "outputId": "0ba861b1-03bd-4675-cf65-fc393d2bd9b7"
      },
      "execution_count": null,
      "outputs": [
        {
          "output_type": "stream",
          "name": "stdout",
          "text": [
            "hello world\n"
          ]
        }
      ]
    },
    {
      "cell_type": "markdown",
      "source": [
        "3. Brincando de calcular. Faça a soma de 5 + 7"
      ],
      "metadata": {
        "id": "tBbL1Z-X68Yc"
      }
    },
    {
      "cell_type": "code",
      "source": [
        "5 + 7"
      ],
      "metadata": {
        "id": "XV-sLozN7ERg",
        "colab": {
          "base_uri": "https://localhost:8080/"
        },
        "outputId": "27024aa5-5de3-4403-8d86-36450de59ca2"
      },
      "execution_count": null,
      "outputs": [
        {
          "output_type": "execute_result",
          "data": {
            "text/plain": [
              "12"
            ]
          },
          "metadata": {},
          "execution_count": 3
        }
      ]
    },
    {
      "cell_type": "markdown",
      "source": [
        "4. Brincando de calcular: Atribua para as variáveis a, b e c os respectivos valores 4, 5, a + b"
      ],
      "metadata": {
        "id": "9SAwYnMB7VsQ"
      }
    },
    {
      "cell_type": "code",
      "source": [
        "a = 4\n",
        "b = 5\n",
        "c = a + b\n",
        "c"
      ],
      "metadata": {
        "id": "EXNKexT77VLW",
        "colab": {
          "base_uri": "https://localhost:8080/"
        },
        "outputId": "bfad6461-a04e-4ef0-805c-1e73b3b75d1c"
      },
      "execution_count": null,
      "outputs": [
        {
          "output_type": "execute_result",
          "data": {
            "text/plain": [
              "9"
            ]
          },
          "metadata": {},
          "execution_count": 4
        }
      ]
    },
    {
      "cell_type": "markdown",
      "source": [
        "5. Entrada de dados. Crie um programa que solicite ao usuário entrar\n",
        " com o seu nome."
      ],
      "metadata": {
        "id": "QFNv1tgX8F9d"
      }
    },
    {
      "cell_type": "code",
      "source": [
        "nome = input ('Qual e seu nome: ')\n",
        "print(nome)"
      ],
      "metadata": {
        "id": "kDYZk7-k8Jq5",
        "colab": {
          "base_uri": "https://localhost:8080/"
        },
        "outputId": "cfc0e616-8bed-4206-889f-153b212197dc"
      },
      "execution_count": null,
      "outputs": [
        {
          "output_type": "stream",
          "name": "stdout",
          "text": [
            "Qual e seu nome: Christian\n",
            "Christian\n"
          ]
        }
      ]
    },
    {
      "cell_type": "markdown",
      "source": [
        "6. Entrada de dados: Crie um programa que solicite ao usuário fornecer a sua altura."
      ],
      "metadata": {
        "id": "BmKRkN738LzT"
      }
    },
    {
      "cell_type": "code",
      "source": [
        "altura = float(input('Qual e a sua altura: '))\n",
        "print(altura)"
      ],
      "metadata": {
        "id": "nHzRcfz_8LYg",
        "colab": {
          "base_uri": "https://localhost:8080/"
        },
        "outputId": "00443b5f-8a43-49c4-f6cd-a75fb2c6efcf"
      },
      "execution_count": null,
      "outputs": [
        {
          "output_type": "stream",
          "name": "stdout",
          "text": [
            "Qual e a sua altura: 1.72\n",
            "1.72\n"
          ]
        }
      ]
    },
    {
      "cell_type": "markdown",
      "source": [
        "7. Trabalhando com texto. Crie as variáveis a, b e c e atribua a elas os respectivos valores: \"Vamos aprender a programar em\", \"Python\" e a + b\n"
      ],
      "metadata": {
        "id": "2jKF9fJo8QLV"
      }
    },
    {
      "cell_type": "code",
      "source": [
        "a = \"Vamos aprender a programar em\"\n",
        "b = \"Python\"\n",
        "c = a + b\n",
        "print(c)"
      ],
      "metadata": {
        "id": "fmUxEGDF87d7",
        "colab": {
          "base_uri": "https://localhost:8080/"
        },
        "outputId": "3676941d-f95f-4724-f748-b67f373806fc"
      },
      "execution_count": null,
      "outputs": [
        {
          "output_type": "stream",
          "name": "stdout",
          "text": [
            "Vamos aprender a programar emPython\n"
          ]
        }
      ]
    },
    {
      "cell_type": "markdown",
      "source": [
        "8. Qual o problema apresentado na saída do algoritmo acima?\n",
        "\n",
        "\n"
      ],
      "metadata": {
        "id": "N3ovopgIhLJ0"
      }
    },
    {
      "cell_type": "markdown",
      "source": [
        "O 'em' fica junto a palavra Python, sem ter um espaco adequado."
      ],
      "metadata": {
        "id": "aUxOmbIpQcOy"
      }
    },
    {
      "cell_type": "markdown",
      "source": [
        "9. Escreva o algoritmo anterior separando as palavras “em”  e Python.\n"
      ],
      "metadata": {
        "id": "sIANdAWY88FH"
      }
    },
    {
      "cell_type": "code",
      "source": [
        "a = 'Vamos aprender a programar em '\n",
        "b = 'Python'\n",
        "c = a + b\n",
        "print(c)"
      ],
      "metadata": {
        "id": "DI_fo8nq9k-0",
        "colab": {
          "base_uri": "https://localhost:8080/"
        },
        "outputId": "ca66d361-28ad-438f-ccb6-f30d03913606"
      },
      "execution_count": null,
      "outputs": [
        {
          "output_type": "stream",
          "name": "stdout",
          "text": [
            "Vamos aprender a programar em Python\n"
          ]
        }
      ]
    },
    {
      "cell_type": "markdown",
      "source": [
        "10. Escreva um algoritmos que solicite a entrada do seu nome e em seguida retorne o tamanho da string fornecida."
      ],
      "metadata": {
        "id": "ZNEmDIOiixf3"
      }
    },
    {
      "cell_type": "code",
      "source": [
        "nome = input('DIgite seu nome: ')\n",
        "tamanho = len(nome)\n",
        "print(tamanho)"
      ],
      "metadata": {
        "id": "ptqbhFvPjPpa",
        "colab": {
          "base_uri": "https://localhost:8080/"
        },
        "outputId": "7f998d95-39a3-4b91-dc88-3bb2d5548f69"
      },
      "execution_count": null,
      "outputs": [
        {
          "output_type": "stream",
          "name": "stdout",
          "text": [
            "DIgite seu nome: Christian\n",
            "9\n"
          ]
        }
      ]
    },
    {
      "cell_type": "markdown",
      "source": [
        "11. Escreva um algoritmos que solicite a entrada do seu nome e em seguida retorne o texto com a primeira letra em maiúscula. Dica: ao inserir o seu nome, digite tudo em minúsculo."
      ],
      "metadata": {
        "id": "AYVGGmw0juCp"
      }
    },
    {
      "cell_type": "code",
      "source": [
        "nome = input('Digite o seu nome:').lower()\n",
        "primeira_maiuscula = nome.capitalize()\n",
        "print(primeira_maiuscula)"
      ],
      "metadata": {
        "id": "s9uz7KCxkISh",
        "colab": {
          "base_uri": "https://localhost:8080/"
        },
        "outputId": "d8d78ecd-373c-4247-95d6-ff8c55e3b6a1"
      },
      "execution_count": null,
      "outputs": [
        {
          "output_type": "stream",
          "name": "stdout",
          "text": [
            "Digite o seu nome:CHRISTIAN\n",
            "Christian\n"
          ]
        }
      ]
    },
    {
      "cell_type": "markdown",
      "source": [
        "12. Na questão anterior, apenas a primeira letra do seu nome foi impressa em letra maiúscula. Fala um programa que capitalise todas as primeiras letras do seu nome."
      ],
      "metadata": {
        "id": "g33t9WZDlA8w"
      }
    },
    {
      "cell_type": "code",
      "source": [
        "nome = input('Digite o seu nome:')\n",
        "nome_cap = nome.title()\n",
        "print(nome_cap)"
      ],
      "metadata": {
        "id": "fMcq05JslWn6",
        "colab": {
          "base_uri": "https://localhost:8080/"
        },
        "outputId": "1ac79851-5b2d-4106-9328-0c7b3677d933"
      },
      "execution_count": null,
      "outputs": [
        {
          "output_type": "stream",
          "name": "stdout",
          "text": [
            "Digite o seu nome:christian vaino mendes de souza\n",
            "Christian Vaino Mendes De Souza\n"
          ]
        }
      ]
    },
    {
      "cell_type": "markdown",
      "source": [
        "13. Escreva um algoritmos que solicite a entrada de um texto e em seguida retorne o texto com todas as letras em minúscula. Dica: ao inserir o texto, digite algumas letras em maiúsculo."
      ],
      "metadata": {
        "id": "KMbmFADRlgb9"
      }
    },
    {
      "cell_type": "code",
      "source": [
        "nome = input('Digite um texto:').lower()\n",
        "print(nome)"
      ],
      "metadata": {
        "id": "A1qkkyaUjrlZ",
        "colab": {
          "base_uri": "https://localhost:8080/"
        },
        "outputId": "8f1ab2a3-dcde-4e08-a56f-028113e99e0b"
      },
      "execution_count": null,
      "outputs": [
        {
          "output_type": "stream",
          "name": "stdout",
          "text": [
            "Digite um texto: EU estoU faZendo um teXto para verifiCar UM codIGO\n",
            " eu estou fazendo um texto para verificar um codigo\n"
          ]
        }
      ]
    },
    {
      "cell_type": "markdown",
      "source": [
        "14. Escreva um algoritmos que solicite a entrada de um texto e em seguida retorne o texto com todas as letras em maiúscula. Dica: ao inserir o texto, digite algumas letras em minúsculo."
      ],
      "metadata": {
        "id": "xI_MZBjJmmZS"
      }
    },
    {
      "cell_type": "code",
      "source": [
        "nome = input('Digite um texto:').upper()\n",
        "print(nome)"
      ],
      "metadata": {
        "id": "XahZ-G72mo_z",
        "colab": {
          "base_uri": "https://localhost:8080/"
        },
        "outputId": "ed438d08-0654-4281-db6d-06b95b942acd"
      },
      "execution_count": null,
      "outputs": [
        {
          "output_type": "stream",
          "name": "stdout",
          "text": [
            "Digite um texto:EU estoU faZendo um teXto para verifiCar UM codIGO\n",
            "EU ESTOU FAZENDO UM TEXTO PARA VERIFICAR UM CODIGO\n"
          ]
        }
      ]
    },
    {
      "cell_type": "markdown",
      "source": [
        "15. Escreva um algoritmos que solicite a entrada de um texto e em seguida teste se todo o texto foi inserido com letras maiúsculas."
      ],
      "metadata": {
        "id": "HRQeIiZxqKn7"
      }
    },
    {
      "cell_type": "code",
      "source": [
        "texto = input('Digite um texto:')\n",
        "if texto.isupper():\n",
        "  print('O texto esta todo em maiuscula')\n",
        "else:\n",
        "  print('O texto nao esta todo em maiuscula')"
      ],
      "metadata": {
        "id": "gmS5MVmsqiW2",
        "colab": {
          "base_uri": "https://localhost:8080/"
        },
        "outputId": "813aadd1-d86b-4f04-9260-253aa93b0419"
      },
      "execution_count": null,
      "outputs": [
        {
          "output_type": "stream",
          "name": "stdout",
          "text": [
            "Digite um texto:lkhoihHPOIG\n",
            "O texto nao esta todo em maiuscula\n"
          ]
        }
      ]
    },
    {
      "cell_type": "markdown",
      "source": [
        "16. Escreva um algoritmo que solicite a entrada de um texto e em seguida teste se todo o texto foi inserido com letras minúsculas."
      ],
      "metadata": {
        "id": "FMtAv7pAixOg"
      }
    },
    {
      "cell_type": "code",
      "source": [
        "texto = input('digite um texto:')\n",
        "if texto.islower():\n",
        "  print('O texto esta todo em minuscula')\n",
        "else:\n",
        "  print('O texto nao esta todo em minuscula')"
      ],
      "metadata": {
        "id": "Einmxlkyq1Ga",
        "colab": {
          "base_uri": "https://localhost:8080/"
        },
        "outputId": "8c3ac16e-14af-4b36-e579-b8ec50a98a03"
      },
      "execution_count": null,
      "outputs": [
        {
          "output_type": "stream",
          "name": "stdout",
          "text": [
            "digite um texto:lihgiufiuhoig oig9ho oigog\n",
            "O texto esta todo em minuscula\n"
          ]
        }
      ]
    },
    {
      "cell_type": "markdown",
      "source": [
        "16. Escreva um algoritmo que solicite a entrada de um texto e em seguida conte quantas vezes a sequência \"na\" aparece no texto."
      ],
      "metadata": {
        "id": "hiPAQ3nCreIP"
      }
    },
    {
      "cell_type": "code",
      "source": [
        "variavel = input('Digite um texto:').lower()\n",
        "contador = variavel.count('na')\n",
        "print(contador)"
      ],
      "metadata": {
        "id": "1_MUQHR7q_Vb",
        "colab": {
          "base_uri": "https://localhost:8080/"
        },
        "outputId": "3e949dd3-1c7c-4ca4-b643-2abaed27c3ae"
      },
      "execution_count": null,
      "outputs": [
        {
          "output_type": "stream",
          "name": "stdout",
          "text": [
            "Digite um texto:Na minha casa, na sala tem 2 bonecos na estante\n",
            "3\n"
          ]
        }
      ]
    },
    {
      "cell_type": "markdown",
      "source": [
        "17. Escreva um algoritmo que solicite a entrada de um texto e em seguida verifique se a string inicia com a sequancia de caracteres \"Bom dia!\"."
      ],
      "metadata": {
        "id": "rCLGQNjbsBox"
      }
    },
    {
      "cell_type": "code",
      "source": [
        "# 'startswith' verifica se o comeco do texto apresenta um caractere ou palavra especifico\n",
        "texto = input('Digite um texto: ')\n",
        "if texto.startswith('Bom dia!'):\n",
        "  print('O texto comeca com Bom dia!')\n",
        "else:\n",
        "  print('O texto nao comeca com Bom dia!')"
      ],
      "metadata": {
        "id": "C5bUIWSWr_0o",
        "colab": {
          "base_uri": "https://localhost:8080/"
        },
        "outputId": "d6704ba7-ec7b-4622-b858-ecaa69c8443a"
      },
      "execution_count": null,
      "outputs": [
        {
          "output_type": "stream",
          "name": "stdout",
          "text": [
            "Digite um texto: ola tudo bem ?\n",
            "O texto nao comeca com Bom dia!\n"
          ]
        }
      ]
    },
    {
      "cell_type": "markdown",
      "source": [
        "17. Escreva um algoritmo que solicite a entrada de um texto e em seguida verifique se a string finalisa com um ponto \".\"."
      ],
      "metadata": {
        "id": "el8t-OJXsCUy"
      }
    },
    {
      "cell_type": "code",
      "source": [
        "# 'endswith' verifica se o final do texto apresenta um caractere especifico\n",
        "texto = input('Digite um  texto:').lower()\n",
        "if texto.endswith('.'):\n",
        "  print('O texto termina com ponto')\n",
        "else:\n",
        "  print('O texto nao termina com ponto')"
      ],
      "metadata": {
        "id": "zDnaXOYDr_M_",
        "colab": {
          "base_uri": "https://localhost:8080/"
        },
        "outputId": "fca57999-38a8-44c3-c85a-a3727daea1f8"
      },
      "execution_count": null,
      "outputs": [
        {
          "output_type": "stream",
          "name": "stdout",
          "text": [
            "Digite um  texto:Hoje fez sol.\n",
            "O texto termina com ponto\n"
          ]
        }
      ]
    },
    {
      "cell_type": "markdown",
      "source": [
        "18. Escreva um algoritmo que solicite a entrada de um texto e em seguida verifique se penas letras e números foram inseridos. Dica: experimente inserir caracteres especiais, acentos e espaços em branco."
      ],
      "metadata": {
        "id": "0LPznHSgtSzU"
      }
    },
    {
      "cell_type": "code",
      "source": [
        "# 'isalnum' verifica se uma string contem apenas letras e numeros (sem caracteres especiais)\n",
        "texto = input('Digite um texto:')\n",
        "if texto.isalnum():\n",
        "  print('O texto contem apenas letras e numeros')\n",
        "else:\n",
        "  print('o texto contem caracteres especiais')\n",
        "\n"
      ],
      "metadata": {
        "id": "vl5aBnlqtgSw",
        "colab": {
          "base_uri": "https://localhost:8080/"
        },
        "outputId": "0c97bfe1-e531-453d-d6ff-a11a7fc37651"
      },
      "execution_count": null,
      "outputs": [
        {
          "output_type": "stream",
          "name": "stdout",
          "text": [
            "Digite um texto:christian@123  #\n",
            "o texto contem caracteres especiais\n"
          ]
        }
      ]
    },
    {
      "cell_type": "markdown",
      "source": [
        "\n",
        "19. Escreva um algoritmo que solicite a entrada de um texto e em seguida verifique se penas letras foram inseridos. Dica: experimente inserir caracteres especiais, acentos e espaços em branco."
      ],
      "metadata": {
        "id": "C3IDjcBHufkd"
      }
    },
    {
      "cell_type": "code",
      "source": [
        "# 'isalpha' verifica se todos os caracteres da string sao letras\n",
        "texto = input('DIGITE UM TEXTO:')\n",
        "if texto.isalpha():\n",
        "  print('O texto contem apenas letras')\n",
        "else:\n",
        "  print('O texto nao contem somente letras ')"
      ],
      "metadata": {
        "id": "YpztQpSguvAW",
        "colab": {
          "base_uri": "https://localhost:8080/"
        },
        "outputId": "4113379c-153f-48d1-c3cb-6444d8b77526"
      },
      "execution_count": null,
      "outputs": [
        {
          "output_type": "stream",
          "name": "stdout",
          "text": [
            "DIGITE UM TEXTO: hoje as 23:40 eu cheguei em casa\n",
            "O texto nao contem somente letras \n"
          ]
        }
      ]
    },
    {
      "cell_type": "markdown",
      "source": [
        "20. Escreva um algoritmo que solicite a entrada de um texto e em seguida converta todas as letras em maiúsculas e minúsculas e vice-versa."
      ],
      "metadata": {
        "id": "hb2lck_fvGJB"
      }
    },
    {
      "cell_type": "code",
      "source": [
        "# 'swapcase' inverte a capitalizacao das strings e vice versa\n",
        "texto = input('digite um texto:')\n",
        "texto_invertido = texto.swapcase()\n",
        "print(texto_invertido)"
      ],
      "metadata": {
        "id": "qd1Yste7vA8I",
        "colab": {
          "base_uri": "https://localhost:8080/"
        },
        "outputId": "3f8d23c7-2b09-41a9-c914-41a808628d5d"
      },
      "execution_count": null,
      "outputs": [
        {
          "output_type": "stream",
          "name": "stdout",
          "text": [
            "digite um texto:Ola Mundo\n",
            "oLA mUNDO\n"
          ]
        }
      ]
    },
    {
      "cell_type": "markdown",
      "source": [
        "21. Escreva um algoritmo que solicite a entrada de um texto e em seguida converta a string em uma lista, usando aos espaços em branco como referência."
      ],
      "metadata": {
        "id": "uZM0wIvzvt1s"
      }
    },
    {
      "cell_type": "code",
      "source": [
        "# 'split' divite a string em uma lista de subgeneros\n",
        "texto = input('digite um texto:')\n",
        "lista = texto.split()\n",
        "print(lista)"
      ],
      "metadata": {
        "id": "8I5O1jJqwHgR",
        "colab": {
          "base_uri": "https://localhost:8080/"
        },
        "outputId": "e90c0af9-065b-45a8-f8e9-b22f7d709bc1"
      },
      "execution_count": null,
      "outputs": [
        {
          "output_type": "stream",
          "name": "stdout",
          "text": [
            "digite um texto:pera uva maca e salada mista\n",
            "['pera', 'uva', 'maca', 'e', 'salada', 'mista']\n"
          ]
        }
      ]
    },
    {
      "cell_type": "markdown",
      "source": [
        "22. Escreva um algoritmo que solicite a entrada de um texto e em seguida converta a string em uma lista, usando a vírgula como referência."
      ],
      "metadata": {
        "id": "HceMdsr3wegl"
      }
    },
    {
      "cell_type": "code",
      "source": [
        "texto = input('digite um texto:')\n",
        "lista = texto.split(\",\")\n",
        "print(lista)"
      ],
      "metadata": {
        "id": "pkIcH6-MwaXG",
        "colab": {
          "base_uri": "https://localhost:8080/"
        },
        "outputId": "af9d1746-b781-44f0-f3ef-a68a96e3d7f5"
      },
      "execution_count": null,
      "outputs": [
        {
          "output_type": "stream",
          "name": "stdout",
          "text": [
            "digite um texto:pera, uva, maca e salada mista\n",
            "['pera', ' uva', ' maca e salada mista']\n"
          ]
        }
      ]
    },
    {
      "cell_type": "markdown",
      "source": [
        "23. Escreva um programa que solicite uma frase ao usuário e escreva a frase toda em maiúscula e sem espaços em branco.\n"
      ],
      "metadata": {
        "id": "1Qmn8Ejv9KTp"
      }
    },
    {
      "cell_type": "code",
      "source": [
        "#permite substituir uma substring por outra\n",
        "frase = input('Digite uma frase').upper()\n",
        "frase_alterada = frase.replace(\" \",\"\")\n",
        "print(frase_alterada)"
      ],
      "metadata": {
        "id": "SV0hCPAl9Jt0",
        "colab": {
          "base_uri": "https://localhost:8080/"
        },
        "outputId": "570397c5-62e8-4bd7-8062-f3c3dea77fe2"
      },
      "execution_count": null,
      "outputs": [
        {
          "output_type": "stream",
          "name": "stdout",
          "text": [
            "Digite uma fraseOla mundo tudo bem ?\n",
            "OLAMUNDOTUDOBEM?\n"
          ]
        }
      ]
    },
    {
      "cell_type": "markdown",
      "source": [],
      "metadata": {
        "id": "FWoR2tTn9lo4"
      }
    }
  ]
}